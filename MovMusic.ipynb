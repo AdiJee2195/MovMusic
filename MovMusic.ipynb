{
  "nbformat": 4,
  "nbformat_minor": 0,
  "metadata": {
    "colab": {
      "provenance": [],
      "include_colab_link": true
    },
    "kernelspec": {
      "name": "python3",
      "display_name": "Python 3"
    },
    "language_info": {
      "name": "python"
    }
  },
  "cells": [
    {
      "cell_type": "markdown",
      "metadata": {
        "id": "view-in-github",
        "colab_type": "text"
      },
      "source": [
        "<a href=\"https://colab.research.google.com/github/nikhil1205-ai/MovMusic-AC/blob/MovMusic-AC/MovMusic.ipynb\" target=\"_parent\"><img src=\"https://colab.research.google.com/assets/colab-badge.svg\" alt=\"Open In Colab\"/></a>"
      ]
    },
    {
      "cell_type": "code",
      "source": [
        "!pip install streamlit\n",
        "!pip install pyngrok\n"
      ],
      "metadata": {
        "colab": {
          "base_uri": "https://localhost:8080/"
        },
        "collapsed": true,
        "id": "Gdttba0sgmpJ",
        "outputId": "dd922b5c-a316-4c47-9a09-16c922f27237"
      },
      "execution_count": 1,
      "outputs": [
        {
          "output_type": "stream",
          "name": "stdout",
          "text": [
            "Collecting streamlit\n",
            "  Downloading streamlit-1.41.1-py2.py3-none-any.whl.metadata (8.5 kB)\n",
            "Requirement already satisfied: altair<6,>=4.0 in /usr/local/lib/python3.11/dist-packages (from streamlit) (5.5.0)\n",
            "Requirement already satisfied: blinker<2,>=1.0.0 in /usr/local/lib/python3.11/dist-packages (from streamlit) (1.9.0)\n",
            "Requirement already satisfied: cachetools<6,>=4.0 in /usr/local/lib/python3.11/dist-packages (from streamlit) (5.5.1)\n",
            "Requirement already satisfied: click<9,>=7.0 in /usr/local/lib/python3.11/dist-packages (from streamlit) (8.1.8)\n",
            "Requirement already satisfied: numpy<3,>=1.23 in /usr/local/lib/python3.11/dist-packages (from streamlit) (1.26.4)\n",
            "Requirement already satisfied: packaging<25,>=20 in /usr/local/lib/python3.11/dist-packages (from streamlit) (24.2)\n",
            "Requirement already satisfied: pandas<3,>=1.4.0 in /usr/local/lib/python3.11/dist-packages (from streamlit) (2.2.2)\n",
            "Requirement already satisfied: pillow<12,>=7.1.0 in /usr/local/lib/python3.11/dist-packages (from streamlit) (11.1.0)\n",
            "Requirement already satisfied: protobuf<6,>=3.20 in /usr/local/lib/python3.11/dist-packages (from streamlit) (4.25.6)\n",
            "Requirement already satisfied: pyarrow>=7.0 in /usr/local/lib/python3.11/dist-packages (from streamlit) (17.0.0)\n",
            "Requirement already satisfied: requests<3,>=2.27 in /usr/local/lib/python3.11/dist-packages (from streamlit) (2.32.3)\n",
            "Requirement already satisfied: rich<14,>=10.14.0 in /usr/local/lib/python3.11/dist-packages (from streamlit) (13.9.4)\n",
            "Requirement already satisfied: tenacity<10,>=8.1.0 in /usr/local/lib/python3.11/dist-packages (from streamlit) (9.0.0)\n",
            "Requirement already satisfied: toml<2,>=0.10.1 in /usr/local/lib/python3.11/dist-packages (from streamlit) (0.10.2)\n",
            "Requirement already satisfied: typing-extensions<5,>=4.3.0 in /usr/local/lib/python3.11/dist-packages (from streamlit) (4.12.2)\n",
            "Collecting watchdog<7,>=2.1.5 (from streamlit)\n",
            "  Downloading watchdog-6.0.0-py3-none-manylinux2014_x86_64.whl.metadata (44 kB)\n",
            "\u001b[2K     \u001b[90m━━━━━━━━━━━━━━━━━━━━━━━━━━━━━━━━━━━━━━━━\u001b[0m \u001b[32m44.3/44.3 kB\u001b[0m \u001b[31m1.5 MB/s\u001b[0m eta \u001b[36m0:00:00\u001b[0m\n",
            "\u001b[?25hRequirement already satisfied: gitpython!=3.1.19,<4,>=3.0.7 in /usr/local/lib/python3.11/dist-packages (from streamlit) (3.1.44)\n",
            "Collecting pydeck<1,>=0.8.0b4 (from streamlit)\n",
            "  Downloading pydeck-0.9.1-py2.py3-none-any.whl.metadata (4.1 kB)\n",
            "Requirement already satisfied: tornado<7,>=6.0.3 in /usr/local/lib/python3.11/dist-packages (from streamlit) (6.3.3)\n",
            "Requirement already satisfied: jinja2 in /usr/local/lib/python3.11/dist-packages (from altair<6,>=4.0->streamlit) (3.1.5)\n",
            "Requirement already satisfied: jsonschema>=3.0 in /usr/local/lib/python3.11/dist-packages (from altair<6,>=4.0->streamlit) (4.23.0)\n",
            "Requirement already satisfied: narwhals>=1.14.2 in /usr/local/lib/python3.11/dist-packages (from altair<6,>=4.0->streamlit) (1.23.0)\n",
            "Requirement already satisfied: gitdb<5,>=4.0.1 in /usr/local/lib/python3.11/dist-packages (from gitpython!=3.1.19,<4,>=3.0.7->streamlit) (4.0.12)\n",
            "Requirement already satisfied: python-dateutil>=2.8.2 in /usr/local/lib/python3.11/dist-packages (from pandas<3,>=1.4.0->streamlit) (2.8.2)\n",
            "Requirement already satisfied: pytz>=2020.1 in /usr/local/lib/python3.11/dist-packages (from pandas<3,>=1.4.0->streamlit) (2024.2)\n",
            "Requirement already satisfied: tzdata>=2022.7 in /usr/local/lib/python3.11/dist-packages (from pandas<3,>=1.4.0->streamlit) (2025.1)\n",
            "Requirement already satisfied: charset-normalizer<4,>=2 in /usr/local/lib/python3.11/dist-packages (from requests<3,>=2.27->streamlit) (3.4.1)\n",
            "Requirement already satisfied: idna<4,>=2.5 in /usr/local/lib/python3.11/dist-packages (from requests<3,>=2.27->streamlit) (3.10)\n",
            "Requirement already satisfied: urllib3<3,>=1.21.1 in /usr/local/lib/python3.11/dist-packages (from requests<3,>=2.27->streamlit) (2.3.0)\n",
            "Requirement already satisfied: certifi>=2017.4.17 in /usr/local/lib/python3.11/dist-packages (from requests<3,>=2.27->streamlit) (2024.12.14)\n",
            "Requirement already satisfied: markdown-it-py>=2.2.0 in /usr/local/lib/python3.11/dist-packages (from rich<14,>=10.14.0->streamlit) (3.0.0)\n",
            "Requirement already satisfied: pygments<3.0.0,>=2.13.0 in /usr/local/lib/python3.11/dist-packages (from rich<14,>=10.14.0->streamlit) (2.18.0)\n",
            "Requirement already satisfied: smmap<6,>=3.0.1 in /usr/local/lib/python3.11/dist-packages (from gitdb<5,>=4.0.1->gitpython!=3.1.19,<4,>=3.0.7->streamlit) (5.0.2)\n",
            "Requirement already satisfied: MarkupSafe>=2.0 in /usr/local/lib/python3.11/dist-packages (from jinja2->altair<6,>=4.0->streamlit) (3.0.2)\n",
            "Requirement already satisfied: attrs>=22.2.0 in /usr/local/lib/python3.11/dist-packages (from jsonschema>=3.0->altair<6,>=4.0->streamlit) (24.3.0)\n",
            "Requirement already satisfied: jsonschema-specifications>=2023.03.6 in /usr/local/lib/python3.11/dist-packages (from jsonschema>=3.0->altair<6,>=4.0->streamlit) (2024.10.1)\n",
            "Requirement already satisfied: referencing>=0.28.4 in /usr/local/lib/python3.11/dist-packages (from jsonschema>=3.0->altair<6,>=4.0->streamlit) (0.36.1)\n",
            "Requirement already satisfied: rpds-py>=0.7.1 in /usr/local/lib/python3.11/dist-packages (from jsonschema>=3.0->altair<6,>=4.0->streamlit) (0.22.3)\n",
            "Requirement already satisfied: mdurl~=0.1 in /usr/local/lib/python3.11/dist-packages (from markdown-it-py>=2.2.0->rich<14,>=10.14.0->streamlit) (0.1.2)\n",
            "Requirement already satisfied: six>=1.5 in /usr/local/lib/python3.11/dist-packages (from python-dateutil>=2.8.2->pandas<3,>=1.4.0->streamlit) (1.17.0)\n",
            "Downloading streamlit-1.41.1-py2.py3-none-any.whl (9.1 MB)\n",
            "\u001b[2K   \u001b[90m━━━━━━━━━━━━━━━━━━━━━━━━━━━━━━━━━━━━━━━━\u001b[0m \u001b[32m9.1/9.1 MB\u001b[0m \u001b[31m24.1 MB/s\u001b[0m eta \u001b[36m0:00:00\u001b[0m\n",
            "\u001b[?25hDownloading pydeck-0.9.1-py2.py3-none-any.whl (6.9 MB)\n",
            "\u001b[2K   \u001b[90m━━━━━━━━━━━━━━━━━━━━━━━━━━━━━━━━━━━━━━━━\u001b[0m \u001b[32m6.9/6.9 MB\u001b[0m \u001b[31m21.1 MB/s\u001b[0m eta \u001b[36m0:00:00\u001b[0m\n",
            "\u001b[?25hDownloading watchdog-6.0.0-py3-none-manylinux2014_x86_64.whl (79 kB)\n",
            "\u001b[2K   \u001b[90m━━━━━━━━━━━━━━━━━━━━━━━━━━━━━━━━━━━━━━━━\u001b[0m \u001b[32m79.1/79.1 kB\u001b[0m \u001b[31m1.3 MB/s\u001b[0m eta \u001b[36m0:00:00\u001b[0m\n",
            "\u001b[?25hInstalling collected packages: watchdog, pydeck, streamlit\n",
            "Successfully installed pydeck-0.9.1 streamlit-1.41.1 watchdog-6.0.0\n",
            "Collecting pyngrok\n",
            "  Downloading pyngrok-7.2.3-py3-none-any.whl.metadata (8.7 kB)\n",
            "Requirement already satisfied: PyYAML>=5.1 in /usr/local/lib/python3.11/dist-packages (from pyngrok) (6.0.2)\n",
            "Downloading pyngrok-7.2.3-py3-none-any.whl (23 kB)\n",
            "Installing collected packages: pyngrok\n",
            "Successfully installed pyngrok-7.2.3\n"
          ]
        }
      ]
    },
    {
      "cell_type": "code",
      "source": [
        "%%writefile movie_music_recommender.py\n",
        "import streamlit as st\n",
        "import pandas as pd\n",
        "import json\n",
        "from difflib import get_close_matches\n",
        "from typing import List, Dict, Union\n",
        "\n",
        "class GenreRecommendationSystem:\n",
        "    def __init__(self, movies_path: str, music_path: str):\n",
        "        self.movies_df = self._load_movie_data(movies_path)\n",
        "        self.music_genres_df = self._load_music_data(music_path)\n",
        "        self.genre_mapping = self._create_genre_mapping()\n",
        "\n",
        "    def _load_movie_data(self, path: str) -> pd.DataFrame:\n",
        "        try:\n",
        "            movies_df = pd.read_csv(path, usecols=['id', 'genres', 'title'])\n",
        "            movies_df['genres'] = movies_df['genres'].apply(\n",
        "                lambda x: [genre['name'] for genre in json.loads(x)]\n",
        "            )\n",
        "            return movies_df\n",
        "        except Exception as e:\n",
        "            raise ValueError(f\"Error loading movie data: {e}\")\n",
        "\n",
        "    def _load_music_data(self, path: str) -> pd.DataFrame:\n",
        "        try:\n",
        "            music_df = pd.read_csv(path)\n",
        "            required_columns = ['genres', 'track_names']\n",
        "            missing_columns = [col for col in required_columns if col not in music_df.columns]\n",
        "            if missing_columns:\n",
        "                raise ValueError(f\"Missing columns in music data: {missing_columns}\")\n",
        "            return music_df\n",
        "        except Exception as e:\n",
        "            raise ValueError(f\"Error loading music data: {e}\")\n",
        "\n",
        "    def _create_genre_mapping(self) -> Dict[str, List[str]]:\n",
        "        return {\n",
        "            'Action': ['electronic', 'rock', 'epic', 'bass music', 'drum and bass'],\n",
        "            'Adventure': ['world', 'cinematic', 'orchestral', 'folk'],\n",
        "            'Fantasy': ['21st century classical', 'orchestral', 'cinematic', 'world'],\n",
        "            'Science Fiction': ['electronic', 'ambient', 'abstract', 'abstract beats'],\n",
        "            'Crime': ['dark ambient', 'abstract hip hop', 'trip hop'],\n",
        "            'Drama': ['classical', 'acoustic', 'piano', 'ambient'],\n",
        "            'Comedy': ['a cappella', 'pop', 'quirky', 'fun'],\n",
        "            'Romance': ['acoustic', 'piano', 'vocal'],\n",
        "            'Horror': ['dark ambient', 'abstract', 'atmospheric'],\n",
        "            'Thriller': ['dark ambient', 'electronic', 'atmospheric'],\n",
        "            'Animation': ['8-bit', 'fun', 'quirky', 'orchestral'],\n",
        "            'Family': ['acoustic', 'pop', 'folk', 'fun']\n",
        "        }\n",
        "\n",
        "    def find_movie(self, movie_title: str) -> Union[None, pd.Series]:\n",
        "        matches = self.movies_df[self.movies_df['title'].str.contains(movie_title, case=False, na=False)]\n",
        "        return matches.iloc[0] if not matches.empty else None\n",
        "\n",
        "    def get_related_music_genres(self, movie_genres: List[str]) -> List[str]:\n",
        "        related_music_genres = set()\n",
        "        for genre in movie_genres:\n",
        "            if genre in self.genre_mapping:\n",
        "                related_music_genres.update(self.genre_mapping[genre])\n",
        "        return list(related_music_genres)\n",
        "\n",
        "    def recommend_music_based_on_movie(self, movie_title: str, num_recommendations: int = 5) -> Union[List[Dict[str, str]], str]:\n",
        "        movie = self.find_movie(movie_title)\n",
        "        if movie is None:\n",
        "            return f\"Movie not found. Did you mean one of these: {', '.join(get_close_matches(movie_title, self.movies_df['title'].tolist(), n=3))}?\"\n",
        "\n",
        "        movie_genres = movie['genres']\n",
        "        related_music_genres = self.get_related_music_genres(movie_genres)\n",
        "\n",
        "        if not related_music_genres:\n",
        "            return \"No matching music genres found for this movie's genres.\"\n",
        "\n",
        "        matching_music = self.music_genres_df[\n",
        "            self.music_genres_df['genres'].str.lower().isin([g.lower() for g in related_music_genres])\n",
        "        ]\n",
        "\n",
        "        if matching_music.empty:\n",
        "            return \"No music recommendations found for the related genres.\"\n",
        "\n",
        "        recommendations = matching_music.sample(n=min(num_recommendations, len(matching_music)))\n",
        "        return recommendations[['genres', 'track_names']].to_dict('records')\n",
        "\n",
        "def main():\n",
        "    st.title(\"Movie-to-Music Recommendation System\")\n",
        "    st.sidebar.header(\"Settings\")\n",
        "    movies_path = st.sidebar.text_input(\"Movies Dataset Path\", \"tmdb_5000_movies.csv\")\n",
        "    music_path = st.sidebar.text_input(\"Music Dataset Path\", \"extended_data_by_genres.csv\")\n",
        "    recommender = GenreRecommendationSystem(movies_path=movies_path, music_path=music_path)\n",
        "\n",
        "    st.write(\"Enter a movie title to get music recommendations based on its genre!\")\n",
        "\n",
        "    movie_title = st.text_input(\"Movie Title\", \"\")\n",
        "    if movie_title:\n",
        "        recommendations = recommender.recommend_music_based_on_movie(movie_title)\n",
        "\n",
        "        if isinstance(recommendations, str):\n",
        "            st.error(recommendations)\n",
        "        else:\n",
        "            st.subheader(f\"Recommended music tracks for '{movie_title}':\")\n",
        "            for i, rec in enumerate(recommendations, 1):\n",
        "                st.write(f\"{i}. Genre: {rec['genres']} - Track: {rec['track_names']}\")\n",
        "    else:\n",
        "        st.write(\"Please enter a movie title to get recommendations.\")\n",
        "\n",
        "if __name__ == \"__main__\":\n",
        "    main()\n"
      ],
      "metadata": {
        "colab": {
          "base_uri": "https://localhost:8080/"
        },
        "id": "fPAc1lpvYndg",
        "outputId": "d8361251-ba13-411c-c8b3-5cce9b9a57be"
      },
      "execution_count": 2,
      "outputs": [
        {
          "output_type": "stream",
          "name": "stdout",
          "text": [
            "Writing movie_music_recommender.py\n"
          ]
        }
      ]
    },
    {
      "cell_type": "code",
      "source": [
        "from pyngrok import ngrok\n",
        "import os\n",
        "\n",
        "# Get your authtoken from https://dashboard.ngrok.com/auth\n",
        "# and replace 'YOUR_AUTHTOKEN' with your actual token\n",
        "ngrok.set_auth_token(\"2qbpqjKwLPYYHXL3hgHMYnwGC69_EeJdHo22u5SjzUxxXDq7\")\n",
        "\n",
        "# Expose the Streamlit app on a public URL\n",
        "# Use 'addr' instead of 'port' to specify the address and port to forward to.\n",
        "public_url = ngrok.connect(addr='8501')\n",
        "\n",
        "# Run the Streamlit app in the background\n",
        "os.system('streamlit run movie_music_recommender.py &')\n",
        "\n",
        "# Print the public URL\n",
        "public_url"
      ],
      "metadata": {
        "colab": {
          "base_uri": "https://localhost:8080/"
        },
        "id": "Zd7hxCS1jO2-",
        "outputId": "bc4f3818-acb2-44ee-d647-f0ff6239a225"
      },
      "execution_count": 3,
      "outputs": [
        {
          "output_type": "stream",
          "name": "stdout",
          "text": []
        },
        {
          "output_type": "execute_result",
          "data": {
            "text/plain": [
              "<NgrokTunnel: \"https://02e6-35-201-192-199.ngrok-free.app\" -> \"http://localhost:8501\">"
            ]
          },
          "metadata": {},
          "execution_count": 3
        }
      ]
    },
    {
      "cell_type": "code",
      "source": [
        "pip install spotipy\n"
      ],
      "metadata": {
        "id": "-7wr1S4w0sQz",
        "outputId": "4bf2aa5d-2857-4710-cec2-75e7248f2a8a",
        "colab": {
          "base_uri": "https://localhost:8080/"
        }
      },
      "execution_count": 4,
      "outputs": [
        {
          "output_type": "stream",
          "name": "stdout",
          "text": [
            "Collecting spotipy\n",
            "  Downloading spotipy-2.25.0-py3-none-any.whl.metadata (4.7 kB)\n",
            "Collecting redis>=3.5.3 (from spotipy)\n",
            "  Downloading redis-5.2.1-py3-none-any.whl.metadata (9.1 kB)\n",
            "Requirement already satisfied: requests>=2.25.0 in /usr/local/lib/python3.11/dist-packages (from spotipy) (2.32.3)\n",
            "Requirement already satisfied: urllib3>=1.26.0 in /usr/local/lib/python3.11/dist-packages (from spotipy) (2.3.0)\n",
            "Requirement already satisfied: charset-normalizer<4,>=2 in /usr/local/lib/python3.11/dist-packages (from requests>=2.25.0->spotipy) (3.4.1)\n",
            "Requirement already satisfied: idna<4,>=2.5 in /usr/local/lib/python3.11/dist-packages (from requests>=2.25.0->spotipy) (3.10)\n",
            "Requirement already satisfied: certifi>=2017.4.17 in /usr/local/lib/python3.11/dist-packages (from requests>=2.25.0->spotipy) (2024.12.14)\n",
            "Downloading spotipy-2.25.0-py3-none-any.whl (30 kB)\n",
            "Downloading redis-5.2.1-py3-none-any.whl (261 kB)\n",
            "\u001b[2K   \u001b[90m━━━━━━━━━━━━━━━━━━━━━━━━━━━━━━━━━━━━━━━━\u001b[0m \u001b[32m261.5/261.5 kB\u001b[0m \u001b[31m7.0 MB/s\u001b[0m eta \u001b[36m0:00:00\u001b[0m\n",
            "\u001b[?25hInstalling collected packages: redis, spotipy\n",
            "Successfully installed redis-5.2.1 spotipy-2.25.0\n"
          ]
        }
      ]
    },
    {
      "cell_type": "code",
      "source": [
        "import spotipy\n",
        "from spotipy.oauth2 import SpotifyClientCredentials\n",
        "\n",
        "# Set up credentials\n",
        "SPOTIFY_CLIENT_ID = \"your_client_id\" # Such as \"kk3e7f78e5804e50a2a3fc8bc99de7af\"\n",
        "SPOTIFY_CLIENT_SECRET = \"your_client_secret\" # Such as \"8a9c642d78ca48c3925fa00f9cdfc444\"\n",
        "\n",
        "client_credentials_manager = SpotifyClientCredentials(client_id=SPOTIFY_CLIENT_ID, client_secret=SPOTIFY_CLIENT_SECRET)\n",
        "sp = spotipy.Spotify(client_credentials_manager=client_credentials_manager)\n",
        "\n",
        "def get_spotify_preview(track_name, artist_name):\n",
        "    query = f\"{track_name} {artist_name}\"\n",
        "    results = sp.search(q=query, limit=1, type=\"track\")\n",
        "\n",
        "    if results['tracks']['items']:\n",
        "        track = results['tracks']['items'][0]\n",
        "        preview_url = track.get('preview_url', None)\n",
        "        spotify_link = track['external_urls']['spotify']\n",
        "        return preview_url, spotify_link\n",
        "    return None, None\n",
        "\n",
        "# Example usage\n",
        "track_name = \"Blinding Lights\"\n",
        "artist_name = \"The Weeknd\"\n",
        "preview_url, spotify_link = get_spotify_preview(track_name, artist_name)\n",
        "print(\"Preview URL:\", preview_url)\n",
        "print(\"Spotify Link:\", spotify_link)\n"
      ],
      "metadata": {
        "id": "Fh0mP60f3N2m",
        "outputId": "38d4d062-721c-4493-a9fe-e1c7a2488a24",
        "colab": {
          "base_uri": "https://localhost:8080/"
        }
      },
      "execution_count": 5,
      "outputs": [
        {
          "output_type": "stream",
          "name": "stdout",
          "text": [
            "Preview URL: None\n",
            "Spotify Link: https://open.spotify.com/track/0VjIjW4GlUZAMYd2vXMi3b\n"
          ]
        }
      ]
    },
    {
      "cell_type": "code",
      "source": [
        "!pip install google-api-python-client\n"
      ],
      "metadata": {
        "id": "WGvkATHFB9iI",
        "outputId": "4686fe12-10a7-4f93-c9b6-bb2e18b71a87",
        "colab": {
          "base_uri": "https://localhost:8080/"
        }
      },
      "execution_count": 6,
      "outputs": [
        {
          "output_type": "stream",
          "name": "stdout",
          "text": [
            "Requirement already satisfied: google-api-python-client in /usr/local/lib/python3.11/dist-packages (2.155.0)\n",
            "Requirement already satisfied: httplib2<1.dev0,>=0.19.0 in /usr/local/lib/python3.11/dist-packages (from google-api-python-client) (0.22.0)\n",
            "Requirement already satisfied: google-auth!=2.24.0,!=2.25.0,<3.0.0.dev0,>=1.32.0 in /usr/local/lib/python3.11/dist-packages (from google-api-python-client) (2.27.0)\n",
            "Requirement already satisfied: google-auth-httplib2<1.0.0,>=0.2.0 in /usr/local/lib/python3.11/dist-packages (from google-api-python-client) (0.2.0)\n",
            "Requirement already satisfied: google-api-core!=2.0.*,!=2.1.*,!=2.2.*,!=2.3.0,<3.0.0.dev0,>=1.31.5 in /usr/local/lib/python3.11/dist-packages (from google-api-python-client) (2.19.2)\n",
            "Requirement already satisfied: uritemplate<5,>=3.0.1 in /usr/local/lib/python3.11/dist-packages (from google-api-python-client) (4.1.1)\n",
            "Requirement already satisfied: googleapis-common-protos<2.0.dev0,>=1.56.2 in /usr/local/lib/python3.11/dist-packages (from google-api-core!=2.0.*,!=2.1.*,!=2.2.*,!=2.3.0,<3.0.0.dev0,>=1.31.5->google-api-python-client) (1.66.0)\n",
            "Requirement already satisfied: protobuf!=3.20.0,!=3.20.1,!=4.21.0,!=4.21.1,!=4.21.2,!=4.21.3,!=4.21.4,!=4.21.5,<6.0.0.dev0,>=3.19.5 in /usr/local/lib/python3.11/dist-packages (from google-api-core!=2.0.*,!=2.1.*,!=2.2.*,!=2.3.0,<3.0.0.dev0,>=1.31.5->google-api-python-client) (4.25.6)\n",
            "Requirement already satisfied: proto-plus<2.0.0dev,>=1.22.3 in /usr/local/lib/python3.11/dist-packages (from google-api-core!=2.0.*,!=2.1.*,!=2.2.*,!=2.3.0,<3.0.0.dev0,>=1.31.5->google-api-python-client) (1.25.0)\n",
            "Requirement already satisfied: requests<3.0.0.dev0,>=2.18.0 in /usr/local/lib/python3.11/dist-packages (from google-api-core!=2.0.*,!=2.1.*,!=2.2.*,!=2.3.0,<3.0.0.dev0,>=1.31.5->google-api-python-client) (2.32.3)\n",
            "Requirement already satisfied: cachetools<6.0,>=2.0.0 in /usr/local/lib/python3.11/dist-packages (from google-auth!=2.24.0,!=2.25.0,<3.0.0.dev0,>=1.32.0->google-api-python-client) (5.5.1)\n",
            "Requirement already satisfied: pyasn1-modules>=0.2.1 in /usr/local/lib/python3.11/dist-packages (from google-auth!=2.24.0,!=2.25.0,<3.0.0.dev0,>=1.32.0->google-api-python-client) (0.4.1)\n",
            "Requirement already satisfied: rsa<5,>=3.1.4 in /usr/local/lib/python3.11/dist-packages (from google-auth!=2.24.0,!=2.25.0,<3.0.0.dev0,>=1.32.0->google-api-python-client) (4.9)\n",
            "Requirement already satisfied: pyparsing!=3.0.0,!=3.0.1,!=3.0.2,!=3.0.3,<4,>=2.4.2 in /usr/local/lib/python3.11/dist-packages (from httplib2<1.dev0,>=0.19.0->google-api-python-client) (3.2.1)\n",
            "Requirement already satisfied: pyasn1<0.7.0,>=0.4.6 in /usr/local/lib/python3.11/dist-packages (from pyasn1-modules>=0.2.1->google-auth!=2.24.0,!=2.25.0,<3.0.0.dev0,>=1.32.0->google-api-python-client) (0.6.1)\n",
            "Requirement already satisfied: charset-normalizer<4,>=2 in /usr/local/lib/python3.11/dist-packages (from requests<3.0.0.dev0,>=2.18.0->google-api-core!=2.0.*,!=2.1.*,!=2.2.*,!=2.3.0,<3.0.0.dev0,>=1.31.5->google-api-python-client) (3.4.1)\n",
            "Requirement already satisfied: idna<4,>=2.5 in /usr/local/lib/python3.11/dist-packages (from requests<3.0.0.dev0,>=2.18.0->google-api-core!=2.0.*,!=2.1.*,!=2.2.*,!=2.3.0,<3.0.0.dev0,>=1.31.5->google-api-python-client) (3.10)\n",
            "Requirement already satisfied: urllib3<3,>=1.21.1 in /usr/local/lib/python3.11/dist-packages (from requests<3.0.0.dev0,>=2.18.0->google-api-core!=2.0.*,!=2.1.*,!=2.2.*,!=2.3.0,<3.0.0.dev0,>=1.31.5->google-api-python-client) (2.3.0)\n",
            "Requirement already satisfied: certifi>=2017.4.17 in /usr/local/lib/python3.11/dist-packages (from requests<3.0.0.dev0,>=2.18.0->google-api-core!=2.0.*,!=2.1.*,!=2.2.*,!=2.3.0,<3.0.0.dev0,>=1.31.5->google-api-python-client) (2024.12.14)\n"
          ]
        }
      ]
    },
    {
      "cell_type": "code",
      "source": [
        "from googleapiclient.discovery import build\n",
        "\n",
        "YOUTUBE_API_KEY = \"your_youtube_api_key\" # Such as \"AIzaSyD12345ABCDEfghIJkLMNOPQrstUVWxyz\"\n",
        "\n",
        "def get_youtube_video(song_name, artist_name):\n",
        "    youtube = build(\"youtube\", \"v3\", developerKey=YOUTUBE_API_KEY)\n",
        "    query = f\"{song_name} {artist_name} official audio\"\n",
        "\n",
        "    request = youtube.search().list(q=query, part=\"snippet\", maxResults=1, type=\"video\")\n",
        "    response = request.execute()\n",
        "\n",
        "    if response[\"items\"]:\n",
        "        video_id = response[\"items\"][0][\"id\"][\"videoId\"]\n",
        "        return f\"https://www.youtube.com/watch?v={video_id}\"\n",
        "    return None\n",
        "\n",
        "# Example usage\n",
        "video_url = get_youtube_video(\"Blinding Lights\", \"The Weeknd\")\n",
        "print(\"YouTube Link:\", video_url)\n"
      ],
      "metadata": {
        "id": "PSar13IACCF4"
      },
      "execution_count": null,
      "outputs": []
    },
    {
      "cell_type": "code",
      "source": [
        "def display_youtube_video(song_name, artist_name):\n",
        "    video_url = get_youtube_video(song_name, artist_name)\n",
        "    if video_url:\n",
        "        st.video(video_url)\n",
        "    else:\n",
        "        st.write(\"No video found.\")\n",
        "\n",
        "# Example usage in Streamlit\n",
        "display_youtube_video(\"Blinding Lights\", \"The Weeknd\")\n"
      ],
      "metadata": {
        "id": "jm12ZI0vCJlB"
      },
      "execution_count": null,
      "outputs": []
    },
    {
      "cell_type": "code",
      "source": [
        "SPOTIFY_CLIENT_ID = \"dd3e7f12d5804e40a2a3fc8bc99de7af\"\n",
        "SPOTIFY_CLIENT_SECRET = \"7d6c642d58ae48c3925fa00f1cdfc433\""
      ],
      "metadata": {
        "id": "a5piM6LvCqit"
      },
      "execution_count": null,
      "outputs": []
    }
  ]
}