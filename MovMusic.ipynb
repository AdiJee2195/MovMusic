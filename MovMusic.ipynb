{
  "cells": [
    {
      "cell_type": "markdown",
      "metadata": {
        "colab_type": "text",
        "id": "view-in-github"
      },
      "source": [
        "<a href=\"https://colab.research.google.com/github/Madhuram2901/AcWOC-MovieMusic/blob/main/MovMusic.ipynb\" target=\"_parent\"><img src=\"https://colab.research.google.com/assets/colab-badge.svg\" alt=\"Open In Colab\"/></a>"
      ]
    },
    {
      "cell_type": "code",
      "execution_count": null,
      "metadata": {
        "colab": {
          "base_uri": "https://localhost:8080/"
        },
        "collapsed": true,
        "id": "Gdttba0sgmpJ",
        "outputId": "badef553-450f-4738-9593-df4433aa69b4"
      },
      "outputs": [],
      "source": [
        "!pip install streamlit\n",
        "!pip install pyngrok"
      ]
    },
    {
      "cell_type": "code",
      "execution_count": 13,
      "metadata": {
        "colab": {
          "base_uri": "https://localhost:8080/"
        },
        "id": "fPAc1lpvYndg",
        "outputId": "6acdff8d-b0f3-4c5e-eb40-dc0059b29034"
      },
      "outputs": [
        {
          "name": "stdout",
          "output_type": "stream",
          "text": [
            "Writing movie_music_recommender.py\n"
          ]
        }
      ],
      "source": [
        "%%writefile movie_music_recommender.py\n",
        "import streamlit as st\n",
        "import pandas as pd\n",
        "import json\n",
        "from difflib import get_close_matches\n",
        "from typing import List, Dict, Union\n",
        "\n",
        "class GenreRecommendationSystem:\n",
        "    def __init__(self, movies_path: str, music_path: str):\n",
        "        self.movies_df = self._load_movie_data(movies_path)\n",
        "        self.music_genres_df = self._load_music_data(music_path)\n",
        "        self.genre_mapping = self._create_genre_mapping()\n",
        "\n",
        "    def _load_movie_data(self, path: str) -> pd.DataFrame:\n",
        "        try:\n",
        "            movies_df = pd.read_csv(path, usecols=['id', 'genres', 'title'])\n",
        "            movies_df['genres'] = movies_df['genres'].apply(\n",
        "                lambda x: [genre['name'] for genre in json.loads(x)]\n",
        "            )\n",
        "            return movies_df\n",
        "        except Exception as e:\n",
        "            raise ValueError(f\"Error loading movie data: {e}\")\n",
        "\n",
        "    def _load_music_data(self, path: str) -> pd.DataFrame:\n",
        "        try:\n",
        "            music_df = pd.read_csv(path)\n",
        "            required_columns = ['genres', 'track_names']\n",
        "            missing_columns = [col for col in required_columns if col not in music_df.columns]\n",
        "            if missing_columns:\n",
        "                raise ValueError(f\"Missing columns in music data: {missing_columns}\")\n",
        "            return music_df\n",
        "        except Exception as e:\n",
        "            raise ValueError(f\"Error loading music data: {e}\")\n",
        "\n",
        "    def _create_genre_mapping(self) -> Dict[str, List[str]]:\n",
        "        return {\n",
        "            'Action': ['electronic', 'rock', 'epic', 'bass music', 'drum and bass'],\n",
        "            'Adventure': ['world', 'cinematic', 'orchestral', 'folk'],\n",
        "            'Fantasy': ['21st century classical', 'orchestral', 'cinematic', 'world'],\n",
        "            'Science Fiction': ['electronic', 'ambient', 'abstract', 'abstract beats'],\n",
        "            'Crime': ['dark ambient', 'abstract hip hop', 'trip hop'],\n",
        "            'Drama': ['classical', 'acoustic', 'piano', 'ambient'],\n",
        "            'Comedy': ['a cappella', 'pop', 'quirky', 'fun'],\n",
        "            'Romance': ['acoustic', 'piano', 'vocal'],\n",
        "            'Horror': ['dark ambient', 'abstract', 'atmospheric'],\n",
        "            'Thriller': ['dark ambient', 'electronic', 'atmospheric'],\n",
        "            'Animation': ['8-bit', 'fun', 'quirky', 'orchestral'],\n",
        "            'Family': ['acoustic', 'pop', 'folk', 'fun']\n",
        "        }\n",
        "\n",
        "    def find_movie(self, movie_title: str) -> Union[None, pd.Series]:\n",
        "        matches = self.movies_df[self.movies_df['title'].str.contains(movie_title, case=False, na=False)]\n",
        "        return matches.iloc[0] if not matches.empty else None\n",
        "\n",
        "    def get_related_music_genres(self, movie_genres: List[str]) -> List[str]:\n",
        "        related_music_genres = set()\n",
        "        for genre in movie_genres:\n",
        "            if genre in self.genre_mapping:\n",
        "                related_music_genres.update(self.genre_mapping[genre])\n",
        "        return list(related_music_genres)\n",
        "\n",
        "    def recommend_music_based_on_movie(self, movie_title: str, num_recommendations: int = 5) -> Union[List[Dict[str, str]], str]:\n",
        "        movie = self.find_movie(movie_title)\n",
        "        if movie is None:\n",
        "            return f\"Movie not found. Did you mean one of these: {', '.join(get_close_matches(movie_title, self.movies_df['title'].tolist(), n=3))}?\"\n",
        "\n",
        "        movie_genres = movie['genres']\n",
        "        related_music_genres = self.get_related_music_genres(movie_genres)\n",
        "\n",
        "        if not related_music_genres:\n",
        "            return \"No matching music genres found for this movie's genres.\"\n",
        "\n",
        "        matching_music = self.music_genres_df[\n",
        "            self.music_genres_df['genres'].str.lower().isin([g.lower() for g in related_music_genres])\n",
        "        ]\n",
        "\n",
        "        if matching_music.empty:\n",
        "            return \"No music recommendations found for the related genres.\"\n",
        "\n",
        "        recommendations = matching_music.sample(n=min(num_recommendations, len(matching_music)))\n",
        "        return recommendations[['genres', 'track_names']].to_dict('records')\n",
        "\n",
        "def main():\n",
        "    st.title(\"Movie-to-Music Recommendation System\")\n",
        "    st.sidebar.header(\"Settings\")\n",
        "    movies_path = st.sidebar.text_input(\"Movies Dataset Path\", \"tmdb_5000_movies.csv\")\n",
        "    music_path = st.sidebar.text_input(\"Music Dataset Path\", \"extended_data_by_genres.csv\")\n",
        "    recommender = GenreRecommendationSystem(movies_path=movies_path, music_path=music_path)\n",
        "\n",
        "    st.write(\"Enter a movie title to get music recommendations based on its genre!\")\n",
        "\n",
        "    movie_title = st.text_input(\"Movie Title\", \"\")\n",
        "    if movie_title:\n",
        "        recommendations = recommender.recommend_music_based_on_movie(movie_title)\n",
        "\n",
        "        if isinstance(recommendations, str):\n",
        "            st.error(recommendations)\n",
        "        else:\n",
        "            st.subheader(f\"Recommended music tracks for '{movie_title}':\")\n",
        "            for i, rec in enumerate(recommendations, 1):\n",
        "                st.write(f\"{i}. Genre: {rec['genres']} - Track: {rec['track_names']}\")\n",
        "    else:\n",
        "        st.write(\"Please enter a movie title to get recommendations.\")\n",
        "\n",
        "if __name__ == \"__main__\":\n",
        "    main()\n"
      ]
    },
    {
      "cell_type": "code",
      "execution_count": null,
      "metadata": {
        "colab": {
          "base_uri": "https://localhost:8080/"
        },
        "id": "Zd7hxCS1jO2-",
        "outputId": "e229c05b-e453-4aaa-d59c-b05a226e32ab"
      },
      "outputs": [],
      "source": [
        "from pyngrok import ngrok\n",
        "import os\n",
        "\n",
        "# Get your authtoken from https://dashboard.ngrok.com\n",
        "# and replace 'YOUR_AUTHTOKEN' with your actual token\n",
        "ngrok.set_auth_token(\"YOUR_AUTHTOKEN\")\n",
        "\n",
        "public_url = ngrok.connect(addr='8501')\n",
        "\n",
        "os.system('streamlit run movie_music_recommender.py &')\n",
        "\n",
        "public_url"
      ]
    }
  ],
  "metadata": {
    "colab": {
      "authorship_tag": "ABX9TyOoajYQHKR2lVVXc1Kvcc/L",
      "include_colab_link": true,
      "provenance": []
    },
    "kernelspec": {
      "display_name": "Python 3",
      "name": "python3"
    },
    "language_info": {
      "codemirror_mode": {
        "name": "ipython",
        "version": 3
      },
      "file_extension": ".py",
      "mimetype": "text/x-python",
      "name": "python",
      "nbconvert_exporter": "python",
      "pygments_lexer": "ipython3",
      "version": "3.12.3"
    }
  },
  "nbformat": 4,
  "nbformat_minor": 0
}
